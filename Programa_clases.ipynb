{
 "cells": [
  {
   "attachments": {},
   "cell_type": "markdown",
   "metadata": {},
   "source": [
    "# Planificación ASyS 2023"
   ]
  },
  {
   "attachments": {},
   "cell_type": "markdown",
   "metadata": {},
   "source": [
    "## Cambios propuestos y tareas a realizar:\n"
   ]
  },
  {
   "attachments": {},
   "cell_type": "markdown",
   "metadata": {},
   "source": [
    "* __Estructura de la clase:__ Se reduce la cantidad de ejercicios de gabinete resueltos en clase a fin de alojar tiempo para complementar los contenidos utilizando un soporte de software.La clase propuesta queda estructurada de la siguiente manera:\n",
    "Aula invertida (~15 min): Un alumno elegido al azar expone su resolución del ejercicio dejado como tarea en casa la clase anterior.  \n",
    "Ejercicios de gabinete (~90 min):  Resueltos en el pizarrón de manera expositiva tradicional.\n",
    "Ejercicios con software (~30 min):  Se realiza la resolución de ejercicios propuestos en lenguaje python. Los mismos son implementados en notebooks de Júpiter y ejecutados en la plataforma Google Colab, a fin de minimizar el tiempo invertido en aprender las herramientas de software utilizadas.\n",
    "\n",
    "* __TP de gabinete:__ Preservan el formato actual, en particular, todos los ejemplos resueltos paso a paso permanecen en el documento, inclusive si su resolución  no es dictada en clase. \n",
    "\n",
    "* __Tablas:__  Se incorpora a la bibliografía de la materia un documento único que incluye todas las tablas y “ayuda memorias” necesarias para la resolución de problemas.. Estas constituyen el único material soporte permitido durante las evaluaciones, en incluyen:\n",
    "    * Comandos e instrucciones básicas de Python, Jupyter, Google Colab, Github, etc.\n",
    "    * Identidades trigonométricas importantes\n",
    "    * Tablas de transformadas de Fourier, Laplace y z\n",
    "    * Todo otro material meramente mnemotécnico que sea necesario para el cursado.\n",
    "\n",
    "* __Evaluación:__\n",
    "    * Se debe tener en cuenta que tipo de ejercicios se resolvieron en la computadora y cuales en el pizarrón para armar los exámenes parciales de forma acorde.\n",
    "    * El aula invertida debe tener algún impacto en la nota de promoción final, o ser un requisito para la misma. De lo contrario no van a realizar los trabajos en casa.\n"
   ]
  },
  {
   "attachments": {},
   "cell_type": "markdown",
   "metadata": {},
   "source": [
    "## Programa de clases prácticas:"
   ]
  },
  {
   "attachments": {},
   "cell_type": "markdown",
   "metadata": {},
   "source": [
    "# TP.1:\n",
    "* __Comentarios:__ \n",
    "* __Clase 1:__\n",
    "    * Aula invertida (xx min):\n",
    "    * Ej. de Gabinete (xx min): \n",
    "    * Ej. python (xx min):\n",
    "* __Clase 2 (media):__ \n",
    "    * Aula invertida (xx min):\n",
    "    * Ej. de Gabinete (xx min): \n",
    "    * Ej. python (xx min):\n"
   ]
  },
  {
   "attachments": {},
   "cell_type": "markdown",
   "metadata": {},
   "source": [
    "# TP.2:\n",
    "* __Comentarios:__ \n",
    "* __Clase 1 (media):__\n",
    "    * Aula invertida (xx min):\n",
    "    * Ej. de Gabinete (xx min): \n",
    "    * Ej. python (xx min):\n",
    "* __Clase 2:__ \n",
    "    * Aula invertida (xx min):\n",
    "    * Ej. de Gabinete (xx min): \n",
    "    * Ej. python (xx min):\n"
   ]
  },
  {
   "attachments": {},
   "cell_type": "markdown",
   "metadata": {},
   "source": [
    "# TP.3:\n",
    "* __Comentarios:__ \n",
    "* __Clase 1:__\n",
    "    * Aula invertida (xx min):\n",
    "    * Ej. de Gabinete (xx min): \n",
    "    * Ej. python (xx min):\n",
    "* __Clase 2:__ \n",
    "    * Aula invertida (xx min):\n",
    "    * Ej. de Gabinete (xx min): \n",
    "    * Ej. python (xx min):\n"
   ]
  },
  {
   "attachments": {},
   "cell_type": "markdown",
   "metadata": {},
   "source": [
    "# TP.4:\n",
    "* __Comentarios:__ \n",
    "* __Clase 1:__\n",
    "    * Aula invertida (xx min):\n",
    "    * Ej. de Gabinete (xx min): \n",
    "    * Ej. python (xx min):\n",
    "* __Clase 2:__ \n",
    "    * Aula invertida (xx min):\n",
    "    * Ej. de Gabinete (xx min): \n",
    "    * Ej. python (xx min):\n",
    "* __Clase 3 (media):__ \n",
    "    * Aula invertida (xx min):\n",
    "    * Ej. de Gabinete (xx min): \n",
    "    * Ej. python (xx min):"
   ]
  },
  {
   "attachments": {},
   "cell_type": "markdown",
   "metadata": {},
   "source": [
    "# TP.5: Señales\n",
    "* __Comentarios:__ \n",
    "* __Clase 1(media):__ \n",
    "    * Aula invertida (15 min):\n",
    "        * Cierre de práctico anterior\n",
    "    * Ej. de Gabinete (80 min): \n",
    "        * Introducción al práctico\n",
    "        * Resolución ejercicio 1a (25min)\n",
    "        * Resolución ejercicio 2a (15min)\n",
    "        * Resolución ejercicio 3a (30min)\n",
    "        * Planteo de ejercicios 4 y 5 (10min)\n",
    "    * Ej. python (40 min):\n",
    "        * Introducción a python\n",
    "        * Ejercicios introductorios a práctico 5 python\n",
    "* __Clase 2:__ \n",
    "    * Aula invertida (20 min):\n",
    "        * Ejercicios de python\n",
    "    * Ej. de Gabinete (70 min): \n",
    "        * Resolución ejercicio 7e (30min)\n",
    "        * Resolución ejercicio 9a (15min)\n",
    "        * Planteo ejercicio 10a y 11 (15min)\n",
    "        * Resolución ejercicio 12a (30min)\n",
    "    * Ej. python (45 min):\n",
    "        * Resolución ejercicios 1 y 2\n",
    "        * Planteo de ejercicios 3 y 4\n",
    "        * Planteo de ejercicios 5 y 6\n",
    "* __Clase 3:__ \n",
    "    * Aula invertida (20 min)\n",
    "    * Ej. de Gabinete (60 min):\n",
    "        * Resolución ejercicio 13 (30min)\n",
    "        * Resolución ejercicio 15 (30min) \n",
    "    * Ej. python (55 min):\n",
    "        * Resolución ejercicio N°7\n",
    "        * Planteo ejercicio N°8\n",
    "        * Resolución ejercicio N° 9 y 10\n",
    "        * Planteo ejercicio N°11\n",
    "\n"
   ]
  },
  {
   "attachments": {},
   "cell_type": "markdown",
   "metadata": {},
   "source": [
    "# TP.6: Sistemas\n",
    "* __Comentarios:__ \n",
    "    * No evaluar convoluciones de dos señales de duración finita como en el Ej. 7\n",
    "    * No evaluar convoluciones discretas con tabla\n",
    "* __Clase 1:__ \n",
    "    * Aula invertida de la  clase anterior (15 min)\n",
    "    * Ej. de Gabinete (90 min): \n",
    "        * Introducción sistemas LTI. \n",
    "        * Resolución en el pizarrón de los Ej. 3.a, 3.d, 4.a, 4.b y 6.a\n",
    "    * Ej. python (30 min):\n",
    "        * Introducción al notebook (5 min)\n",
    "        * Resolución de Ej. Python 1 (15 min)\n",
    "        * Ej. Python 2 (15 min)\n",
    "    * Aula invertida para la clase siguiente: Ej. Python 3\n",
    "* __Clase 2:__  \n",
    "    * Aula invertida de la  clase anterior (15 min)\n",
    "    * Introducción a convolución (15 min)\n",
    "    * Ej. python (35 min):\n",
    "        * Resolver Ej. Python 4 (20 min)\n",
    "        * Ej. Python 5 (15 min)\n",
    "    * Ej. de Gabinete (60 min): Ej. 12.a, 12.b, 14.a, 15.a\n",
    "    * Aula invertida para la clase siguiente: Introducir Ej. 7 en la pizarra, hasta Ec. 79. Ejecutar y dejar como tarea Ej. Python 6 (10 min)\n"
   ]
  },
  {
   "attachments": {},
   "cell_type": "markdown",
   "metadata": {},
   "source": [
    "# TP.7:\n",
    "* __Comentarios:__ \n",
    "* __Clase 1:__\n",
    "    * Aula invertida (xx min):\n",
    "    * Ej. de Gabinete (xx min): \n",
    "    * Ej. python (xx min):\n",
    "* __Clase 2:__ \n",
    "    * Aula invertida (xx min):\n",
    "    * Ej. de Gabinete (xx min): \n",
    "    * Ej. python (xx min):\n"
   ]
  },
  {
   "attachments": {},
   "cell_type": "markdown",
   "metadata": {},
   "source": [
    "# TP.8: Análisis de Fourier en Tiempo Discreto y Muestreo\n",
    "* __Clase 1:__\n",
    "    * Aula invertida de la  clase anterior (15 min)\n",
    "    * Ej. de Gabinete (60 min): \n",
    "        * Introducción a Fourier en tiempo discreto\n",
    "        * Resolución en el pizarrón de los Ej. 12 y 13.a\n",
    "    * Ej. python (40 min):\n",
    "        * Introducción al notebook (5 min)\n",
    "        * Resolución de Ej. Python 4 (20 min)\n",
    "        * Ej. Python 5 (20 min)\n",
    "    * Aula invertida para la clase siguiente: Ej. Python 6\n",
    "* __Clase 2:__ \n",
    "    * Aula invertida de la  clase anterior (15 min)\n",
    "    * Ej. de Gabinete (65 min): \n",
    "        * Introducción al teorema del muestreo y frecuencia digital. \n",
    "        * Resolución en el pizarrón de los Ej. 1.b, 3, 5, 6\n",
    "    * Ej. python (35 min):\n",
    "        * Introducción al notebook (5 min)\n",
    "        * Resolución de Ej. Python 1 (10 min)\n",
    "        * Ej. Python 2 (20 min)\n",
    "    * Aula invertida para la clase siguiente: Ej. Python 3\n"
   ]
  },
  {
   "attachments": {},
   "cell_type": "markdown",
   "metadata": {},
   "source": [
    "# TP. 9:\n",
    "* __Comentarios:__ \n",
    "* __Clase 1:__\n",
    "    * Aula invertida (xx min):\n",
    "    * Ej. de Gabinete (xx min): \n",
    "    * Ej. python (xx min):\n",
    "* __Clase 2:__ \n",
    "    * Aula invertida (xx min):\n",
    "    * Ej. de Gabinete (xx min): \n",
    "    * Ej. python (xx min):\n",
    "* __Clase 3:__ \n",
    "    * Aula invertida (xx min):\n",
    "    * Ej. de Gabinete (xx min): \n",
    "    * Ej. python (xx min):"
   ]
  },
  {
   "attachments": {},
   "cell_type": "markdown",
   "metadata": {},
   "source": [
    "# TP. 10:\n",
    "* __Comentarios:__ \n",
    "* __Clase 1:__\n",
    "    * Aula invertida (xx min):\n",
    "    * Ej. de Gabinete (xx min): \n",
    "    * Ej. python (xx min):\n",
    "* __Clase 2:__ \n",
    "    * Aula invertida (xx min):\n",
    "    * Ej. de Gabinete (xx min): \n",
    "    * Ej. python (xx min):"
   ]
  }
 ],
 "metadata": {
  "kernelspec": {
   "display_name": "Python 3 (ipykernel)",
   "language": "python",
   "name": "python3"
  },
  "language_info": {
   "codemirror_mode": {
    "name": "ipython",
    "version": 3
   },
   "file_extension": ".py",
   "mimetype": "text/x-python",
   "name": "python",
   "nbconvert_exporter": "python",
   "pygments_lexer": "ipython3",
   "version": "3.11.0"
  },
  "vscode": {
   "interpreter": {
    "hash": "2254184c2aee47fc75dd0886aede4da63e942299f319f2efaed55e4aef1f90a1"
   }
  }
 },
 "nbformat": 4,
 "nbformat_minor": 4
}
