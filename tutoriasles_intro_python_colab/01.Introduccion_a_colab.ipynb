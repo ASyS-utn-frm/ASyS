{
 "cells": [
  {
   "attachments": {},
   "cell_type": "markdown",
   "metadata": {},
   "source": [
    "# Introducción a Google Colaboratory"
   ]
  },
  {
   "attachments": {},
   "cell_type": "markdown",
   "metadata": {},
   "source": [
    "Google Colaboratory, comunmente llamado \"Colab\" es una herramienta en la nube para ejecutar código Python y crear modelos de Machine Learning con la posibilidad de hacer uso de sus GPUs (tarjetas de videos). La principal ventaja que ofrece esta herramienta es que libera a nuestra máquina de tener que llevar a cabo un trabajo demasiado costoso tanto en tiempo como en potencia o incluso nos permite realizar ese trabajo si nuestra máquina no cuenta con recursos suficientemente potentes. Y todo de forma gratuita.\n",
    "\n",
    "En nuestro caso solo usaremos las funcionalidades básicas de Google Colab y nos resultará útil porque solo nos ocuparnos de aprender la sintaxis del lenguage Python sin preocuparnos por la instalación del intérprete y las versiones de las librerías instaladas.\n",
    "\n",
    "Lo único que necesitamos para acceder a esta herramienta es una cuenta de Google y acceso a internet. Respecto a la cuenta de Google se recomienda usar una cuenta alternativa a la que usan siempre ya que estaremos trabajando en el Laboratorio Informático de Electrónica y no es recomendable que coloquen contraseñas que no estén dispuestos a que les hackeen.\n",
    "\n"
   ]
  },
  {
   "attachments": {},
   "cell_type": "markdown",
   "metadata": {},
   "source": [
    "Este tutorial es introductorio y se explica lo mínimo necesario para el curso. Si tenés curiosidad y querés conocer más sobre Google Colab podés acceder a los siguientes recursos (alguno de los cuales fueron aprovechados para crear este notebook.):\n",
    "\n",
    "- [¿Qué es Colaboratory? (Notebook)](https://colab.research.google.com/notebooks/intro.ipynb). Una gran cantidad de recursos disponibles en la página oficial de Google Colaboratory.\n",
    "- [Google Colab: Python y Machine Learning en la nube (Artículo)](https://www.adictosaltrabajo.com/2019/06/04/google-colab-python-y-machine-learning-en-la-nube/). Un tutorial con las características más relevantes de Colab.\n",
    "\n",
    "\n",
    "Por último antes de empezar, si notas que el notebook tiene algún error (de cualquier tipo) no dejes de avisar! \n",
    "\n",
    "Muchas gracias y que disfrutes el tutorial."
   ]
  },
  {
   "attachments": {},
   "cell_type": "markdown",
   "metadata": {},
   "source": [
    "## 1. Conexión al entorno\n",
    "\n",
    "El documento que estás leyendo es un <a href=\"https://jupyter.org/\">notebook de Jupyter</a> alojado en Colaboratory. No es una página estática, sino un entorno interactivo que te permite escribir y ejecutar código en Python y en otros lenguajes, de una manera ordenada y didáctica.\n",
    "\n",
    "Cuando creamos un nuevo notebook o accedemos a uno existente, este es estático, es decir, vemos solo su contenido, pero no estamos conectados a ningún entorno de ejecución. Un entorno de ejecucución es un conjunto de software y hardware que proporciona un ambiente en el cual un programa o aplicación puede ser ejecutado. \n",
    "\n",
    "\n",
    "En Colab, nuestro notebook se conecta a un entorno de ejecución cuando pulsamos sobre el botón de **Conectar**. Luego de presionarlo toma un momento en conectarse y luego muestra la cantidad de RAM y disco que se están utilizando. Cada máquina cuenta con aproximadamente 12 GB de RAM y varios GB de almancenamiento en disco disponibles para su uso.\n",
    "\n",
    "![](https://www.adictosaltrabajo.com/wp-content/uploads/2019/05/connect-colab.png)\n",
    "\n",
    "Todo el código que escribamos en un notebook no se ejecutará en nuestra computadora sino en una computadora virtual que nos presta Google.\n",
    "\n",
    "Un notebook de Jupyter está compuesto por **celdas**. Existen dos típos de celdas, las **ejecutables** y las de **texto**. Las ejecutables son aquellas en las que podés escribir tu código y ejecutarlo. Las celdas de texto son simplemente para colocar cualquier texto que deseamos (generalmente texto que explica lo que las celdas de código hacen) y no interfieren en absoluto el resultado de las celdas ejecutables."
   ]
  },
  {
   "attachments": {},
   "cell_type": "markdown",
   "metadata": {},
   "source": [
    "## 2. Celdas de Código o Ejecutables"
   ]
  },
  {
   "attachments": {},
   "cell_type": "markdown",
   "metadata": {},
   "source": [
    "Una celda es la unidad mínima de ejecución, es decir, es donde incluís tu código y lo ejecutás. Para ejecutar una celda podés pulsar el botón con el icono de Play que se encuentra a la izquierda o seleccionar la celda con el mouse y pulsar Ctrl+Enter (ejecutar celda). Tras la ejecución, debajo de la celda vas a encontrar el resultado (si lo tiene)."
   ]
  },
  {
   "cell_type": "code",
   "execution_count": null,
   "metadata": {},
   "outputs": [],
   "source": [
    "print(\"¡Hola! Bienvenido al curso de introducción a Python de la cátedra de Análisis de Señales y Sistemas\")"
   ]
  },
  {
   "attachments": {},
   "cell_type": "markdown",
   "metadata": {},
   "source": [
    "Podemos crear tantas celdas como queramos y generalmente usamos diferentes celdas para ayudar al entendimiento de qué es lo que produce cada parte del código."
   ]
  },
  {
   "attachments": {},
   "cell_type": "markdown",
   "metadata": {},
   "source": [
    "En la parte izquierda de una celda ejecutada podés observar un número entre corchetes. Este número indica el orden en el que se ha ejecutado cada celda. Si pasamos el cursor por esta parte izquierda de la celda también podemos ver información sobre quién ejecutó la celda, en qué momento y cuánto tardó la ejecución."
   ]
  },
  {
   "attachments": {},
   "cell_type": "markdown",
   "metadata": {},
   "source": [
    "Podemos cambiar el orden de las celdas con las flechas de la parte superior, hacia arriba (también con el atajo Ctrl+M K) o hacia abajo (Ctrl+M J), o modificarlas con el menú desplegable de la parte derecha de cada celda, borrándolas (Ctrl+M D) o añadiendo comentarios y enlaces."
   ]
  },
  {
   "attachments": {},
   "cell_type": "markdown",
   "metadata": {},
   "source": [
    "Desde los botones de la parte superior o en el menú «Insertar» podés añadir nuevas celdas, tanto específicas para código como para texto."
   ]
  },
  {
   "attachments": {},
   "cell_type": "markdown",
   "metadata": {},
   "source": [
    "## 3. Celdas de Texto"
   ]
  },
  {
   "attachments": {},
   "cell_type": "markdown",
   "metadata": {},
   "source": [
    "Las celdas de texto están formateadas usando un lenguaje de marcado simple llamado markdown, esto es parecido a cómo le damos formato al texto en whatsapp cuando queremos que una palabra aparezca en negrita, cursiva, etcétera.\n",
    "\n",
    "Las celdas de texto pueden estar en dos modos. Uno es el modo de visualización, este es el modo por defecto de la celda. El otro mode es el de edición, al que se ingresa haciendo doble click sobre una celda y recién en ese momento podemos inroducir texto en ella. Una vez que terminamos de ingresar código volvemos al modo de visualización presionando 'ctrl+enter' en nuestro teclado.  "
   ]
  },
  {
   "attachments": {},
   "cell_type": "markdown",
   "metadata": {},
   "source": [
    "En esta celda te muestro algunos ejemplos de código markdown, deben hacerle doble click a esta celda para ver cómo está codificada y poder editarla:\n",
    "# Este texto es tratado como un título porque tiene un signo numeral al comienzo\n",
    "## Este texto es tratado como un subtítulo porque tiene 2 numerales al comienzo\n",
    "###  Y así podemos seguir hasta 5 numerales\n",
    "*cursiva* o _cursiva_\n",
    "\n",
    "**negrita**\n",
    "\n",
    "~~tachado~~\n",
    "\n",
    "Sin sangría\n",
    ">Un tab\n",
    ">>Dos tabs\n",
    "\n",
    "Viñetas:\n",
    "* One\n",
    "* Two\n",
    "* Three\n",
    "\n",
    "Viñetas numéricas:\n",
    "1. One\n",
    "1. Two\n",
    "1. Three\n",
    "\n",
    "Un link: https://google.com\n",
    "\n",
    "Una frase con un link: \\[[Colaboratory](https://research.google.com/colaboratory)]\\(https://research.google.com/colaboratory)\n",
    "\n",
    "un gif incrustado en el texto: !\\[Rafa](https://media0.giphy.com/media/ASd0Ukj0y3qMM/giphy.gif)\n",
    ">![Rafa](https://media0.giphy.com/media/ASd0Ukj0y3qMM/giphy.gif)"
   ]
  },
  {
   "attachments": {},
   "cell_type": "markdown",
   "metadata": {},
   "source": [
    "Acá tienen una referencia más completa de cómo usar [markdown](https://daringfireball.net/projects/markdown/syntax)."
   ]
  },
  {
   "attachments": {},
   "cell_type": "markdown",
   "metadata": {},
   "source": [
    "Para escribir fórmulas matemáticas podemos usar un lenguaje llamado Latex, queda fuera del alcance de este curso su enseñanza, pero les dejo algunos ejemplos para que tengan una idea:\n",
    "\n",
    "\n",
    "\n",
    ">$y=x^2$\n",
    "\n",
    ">$e^{i\\pi} + 1 = 0$\n",
    "\n",
    ">$e^x=\\sum_{i=0}^\\infty \\frac{1}{i!}x^i$\n",
    "\n",
    ">$\\frac{n!}{k!(n-k)!} = {n \\choose k}$\n",
    "\n",
    ">$A_{m,n} =\n",
    " \\begin{pmatrix}\n",
    "  a_{1,1} & a_{1,2} & \\cdots & a_{1,n} \\\\\n",
    "  a_{2,1} & a_{2,2} & \\cdots & a_{2,n} \\\\\n",
    "  \\vdots  & \\vdots  & \\ddots & \\vdots  \\\\\n",
    "  a_{m,1} & a_{m,2} & \\cdots & a_{m,n}\n",
    " \\end{pmatrix}$\n",
    "\n",
    "Tablas:\n",
    ">```\n",
    "Primera columna | Segunda columna \n",
    "--- | ---\n",
    "Fila 1, Col 1 | Fila 1, Col 2\n",
    "Fila 2, Col 1 | Fila 2, Col 2\n",
    "```\n"
   ]
  },
  {
   "attachments": {},
   "cell_type": "markdown",
   "metadata": {},
   "source": [
    "Hemos visto así cómo se puede hacer de los notebooks no sólo un script ejecutable sino también una conjunción de texto y código que permita acompañar a los bloques de código con fórmulas, guías, tutoriales o comentarios."
   ]
  },
  {
   "attachments": {},
   "cell_type": "markdown",
   "metadata": {},
   "source": [
    "##El entorno de ejecución\n",
    "Cada celda es independiente, pero todas las celdas en un notebook utilizan el mismo kernel. El kernel es el motor de computación que está por debajo y que se encarga de ejecutar tu código y devolver el resultado para mostrarlo en la celda. El estado del kernel persiste durante la sesión que comienza al presionamos conectar, con lo que, aunque cada celda sea independiente, las **variables declaradas en una celda se pueden utilizar en las demás celdas**.\n",
    "\n",
    "Normalmente, el flujo de ejecución de las celdas será de abajo hacia arriba, el orden natural en el que están creadas, pero es posible que en algún momento quieras ejecutar o cambiar algo en una celda anterior. Por ello es útil el número que aparece a la izquierda que, como hemos comentado antes, indica el orden de ejecución."
   ]
  },
  {
   "cell_type": "code",
   "execution_count": null,
   "metadata": {},
   "outputs": [],
   "source": [
    "a = 2"
   ]
  },
  {
   "cell_type": "code",
   "execution_count": null,
   "metadata": {},
   "outputs": [],
   "source": [
    "b = 3"
   ]
  },
  {
   "cell_type": "code",
   "execution_count": null,
   "metadata": {},
   "outputs": [],
   "source": [
    "print('el resultado de a+b es: ', a + b)"
   ]
  },
  {
   "attachments": {},
   "cell_type": "markdown",
   "metadata": {},
   "source": [
    "Todo esto facilita mucho el separar tu código en bloques lógicos sin la necesidad de volver a importar librerías, o recrear variables o funciones.\n",
    "\n",
    "Desde el menú de «Entorno de ejecución» se puede reiniciar el estado del entorno de ejecución (Ctrl+M .) para liberar toda la memoria que hayamos utilizado (ojo, perdiendo variables almacenadas y demás), interrumpir cualquier ejecución lanzada (Ctrl+M I), y lanzar ejecuciones sobre las celdas"
   ]
  },
  {
   "attachments": {},
   "cell_type": "markdown",
   "metadata": {},
   "source": [
    "El tiempo máximo que podés estar conectado a una misma máquina desde un notebook es de 12 horas. Si pasás más de 90 minutos sin utilizar un notebook, el entorno se desconecta. "
   ]
  },
  {
   "attachments": {
    "image.png": {
     "image/png": "[encoded data removed]"
    }
   },
   "cell_type": "markdown",
   "metadata": {},
   "source": [
    "## 4. Panel lateral\n",
    "Del panel lateral por ahora solo nos interesará solo el ícono ![image.png](attachment:image.png) que nos indicará las variables que hemos declarado y que valor hay cargado en ellas."
   ]
  },
  {
   "attachments": {},
   "cell_type": "markdown",
   "metadata": {},
   "source": [
    "## 5. Comandos bash \n",
    "Bash es un programa de linux que permite interactuar con el sistema operativo a través de comandos, comunmente llamada consola. Como expliqué anteriormente Google nos está prestado una máquina virtual que está en sus servidores. Ésta máquina virtual tiene instalado un sistema operativo Linux (ubuntu) y dentro de este sistema tiene instalado Python y el servicio web que nos permite acceder a la interfaz del notebook.\n",
    "\n",
    "Colab te permite ejecutar comandos bash en el entorno de ejecución como si estuvieras ejecutando comandos desde la consola de la máquina. Para eso, basta con añadir el signo de exclamación «!» delante del comando que querés ejecutar y Colab va a entender que querés ejecutar un comando para el sistema operativo. Esto nos va a ser útil cuando querramos instalar alguna librería que no viene por defecto en el entorno."
   ]
  },
  {
   "cell_type": "code",
   "execution_count": null,
   "metadata": {},
   "outputs": [],
   "source": [
    "!ls\n",
    "!mkdir miCarpeta\n",
    "!ls"
   ]
  },
  {
   "attachments": {},
   "cell_type": "markdown",
   "metadata": {},
   "source": [
    "Y llegamos al final de este tutorial! Cualquier comentario no dudes es escribirme. \n",
    "\n",
    "**Saludos y gracias por tu tiempo!!**"
   ]
  }
 ],
 "metadata": {
  "anaconda-cloud": {},
  "kernelspec": {
   "display_name": "Python 3",
   "language": "python",
   "name": "python3"
  },
  "language_info": {
   "codemirror_mode": {
    "name": "ipython",
    "version": 3
   },
   "file_extension": ".py",
   "mimetype": "text/x-python",
   "name": "python",
   "nbconvert_exporter": "python",
   "pygments_lexer": "ipython3",
   "version": "3.9.7"
  },
  "vscode": {
   "interpreter": {
    "hash": "fd69f43f58546b570e94fd7eba7b65e6bcc7a5bbc4eab0408017d18902915d69"
   }
  }
 },
 "nbformat": 4,
 "nbformat_minor": 0
}
