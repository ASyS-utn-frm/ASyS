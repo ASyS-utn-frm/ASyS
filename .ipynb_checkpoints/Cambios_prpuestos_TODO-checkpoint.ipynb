{
 "cells": [
  {
   "cell_type": "markdown",
   "metadata": {},
   "source": [
    "## Cambios propuestos y tareas a realizar:\n"
   ]
  },
  {
   "cell_type": "markdown",
   "metadata": {},
   "source": [
    "* __Estructura de la clase:__ Las clases correspondientes a los TP 1, 2, 3 y 4 conservan el formato del año 2022. A saber, una combinación de clase expositiva, donde el profesor explica las herramientas necesarias mediante su aplicación a la resolución de ejercicios de gabinete, y clase constructivista, donde se deja al alumno que resuelva un ejercicio de gabinete de manera independiente, ya sea en solitario o en grupo. \n",
    "Para las calses de los TP 5, 6, 7, 8, 9, y 10, se reduce sustancialmente la porción de la clase expositiva, en relación a lo realizado en 2022, a fin de alojar tiempo para complementar los contenidos utilizando un soporte de software. La clase propuesta queda estructurada de la siguiente manera:\n",
    "    * Aula invertida (~15 min): Se destina este tiempo para que un alumno elegido al azar exponga su resolución del ejercicio dejado como tarea en casa la clase anterior. Esta estrategia permite que los alumnos se involucren activamente en el proceso de aprendizaje y fomenta la participación y el intercambio de conocimientos.\n",
    "    * Ejercicios de gabinete (~90 min):  Resueltos en el pizarrón de manera expositiva por el profesor. Esta metodología permite que el docente explique los conceptos y las técnicas necesarias para resolver los ejercicios, y que los alumnos puedan seguir y comprender el proceso de resolución. Se preve ocasionalmente un enfoque constructivista, donde se deja al alumno que resuelva un ejercicio de gabinete de manera independiente, ya sea en solitario o en grupo.\n",
    "    * Ejercicios con software (~30 min):  Se realiza la resolución de ejercicios propuestos en lenguaje python. Los mismos son implementados en notebooks de Júpiter y ejecutados en la plataforma Google Colab, a fin de minimizar el tiempo invertido en aprender las herramientas de software utilizadas. Se incluyen fundamentalmente ejercicios constructivistas que fomentan la exploración interactiva y la experimentación utilizando multiples medios (gráficos, animaciones, sonidos) para vizualizar los fundamentos del análisis de señales y su procesamiento mediante sistemas lineales. Esta estrategia fomenta el pensamiento crítico e indpendiente, y fundamentalmente desarrolla en el alumno las habilidades de programación básicas que le permiten hacer un uso práctico y moderno de los conceptos aprendidos.\n",
    "\n",
    "* __TP de gabinete:__ Preservan el formato actual, en particular, todos los ejemplos resueltos paso a paso permanecen en el documento, inclusive si su resolución  no es dictada en clase. \n",
    "\n",
    "* __Tablas:__  Se incorpora a la bibliografía de la materia un documento único que incluye todas las tablas y “ayuda memorias” necesarias para la resolución de problemas. Estas constituyen el único material soporte permitido durante las evaluaciones, e incluyen:\n",
    "    * Comandos e instrucciones básicas de Python, Jupyter, Google Colab, Github, etc.\n",
    "    * Identidades trigonométricas importantes\n",
    "    * Tablas de transformadas de Fourier, Laplace y z\n",
    "    * Todo otro material meramente mnemotécnico que sea necesario para el cursado.\n",
    "\n",
    "* __Evaluación:__\n",
    "    * Se debe tener en cuenta que tipo de ejercicios se resolvieron en la computadora y cuales en el pizarrón para armar los exámenes parciales de forma acorde.\n",
    "    * El aula invertida debe tener algún impacto en la nota de promoción final, o ser un requisito para la misma. De lo contrario no van a realizar los trabajos en casa.\n"
   ]
  },
  {
   "cell_type": "code",
   "execution_count": null,
   "metadata": {},
   "outputs": [],
   "source": []
  }
 ],
 "metadata": {
  "kernelspec": {
   "display_name": "Python 3 (ipykernel)",
   "language": "python",
   "name": "python3"
  },
  "language_info": {
   "codemirror_mode": {
    "name": "ipython",
    "version": 3
   },
   "file_extension": ".py",
   "mimetype": "text/x-python",
   "name": "python",
   "nbconvert_exporter": "python",
   "pygments_lexer": "ipython3",
   "version": "3.8.16"
  },
  "vscode": {
   "interpreter": {
    "hash": "2254184c2aee47fc75dd0886aede4da63e942299f319f2efaed55e4aef1f90a1"
   }
  }
 },
 "nbformat": 4,
 "nbformat_minor": 4
}
