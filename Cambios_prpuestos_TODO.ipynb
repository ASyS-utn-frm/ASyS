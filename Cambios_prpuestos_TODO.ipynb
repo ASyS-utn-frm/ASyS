{
 "cells": [
  {
   "attachments": {},
   "cell_type": "markdown",
   "metadata": {},
   "source": [
    "## Cambios propuestos y tareas a realizar:\n"
   ]
  },
  {
   "attachments": {},
   "cell_type": "markdown",
   "metadata": {},
   "source": [
    "* __Estructura de la clase:__ Se reduce la cantidad de ejercicios de gabinete resueltos en clase a fin de alojar tiempo para complementar los contenidos utilizando un soporte de software.La clase propuesta queda estructurada de la siguiente manera:\n",
    "    * Aula invertida (~15 min): Un alumno elegido al azar expone su resolución del ejercicio dejado como tarea en casa la clase anterior.  \n",
    "    * Ejercicios de gabinete (~90 min):  Resueltos en el pizarrón de manera expositiva tradicional.\n",
    "    * Ejercicios con software (~30 min):  Se realiza la resolución de ejercicios propuestos en lenguaje python. Los mismos son implementados en notebooks de Júpiter y ejecutados en la plataforma Google Colab, a fin de minimizar el tiempo invertido en aprender las herramientas de software utilizadas.\n",
    "\n",
    "* __TP de gabinete:__ Preservan el formato actual, en particular, todos los ejemplos resueltos paso a paso permanecen en el documento, inclusive si su resolución  no es dictada en clase. \n",
    "\n",
    "* __Tablas:__  Se incorpora a la bibliografía de la materia un documento único que incluye todas las tablas y “ayuda memorias” necesarias para la resolución de problemas.. Estas constituyen el único material soporte permitido durante las evaluaciones, en incluyen:\n",
    "    * Comandos e instrucciones básicas de Python, Jupyter, Google Colab, Github, etc.\n",
    "    * Identidades trigonométricas importantes\n",
    "    * Tablas de transformadas de Fourier, Laplace y z\n",
    "    * Todo otro material meramente mnemotécnico que sea necesario para el cursado.\n",
    "\n",
    "* __Evaluación:__\n",
    "    * Se debe tener en cuenta que tipo de ejercicios se resolvieron en la computadora y cuales en el pizarrón para armar los exámenes parciales de forma acorde.\n",
    "    * El aula invertida debe tener algún impacto en la nota de promoción final, o ser un requisito para la misma. De lo contrario no van a realizar los trabajos en casa.\n"
   ]
  }
 ],
 "metadata": {
  "kernelspec": {
   "display_name": "Python 3 (ipykernel)",
   "language": "python",
   "name": "python3"
  },
  "language_info": {
   "codemirror_mode": {
    "name": "ipython",
    "version": 3
   },
   "file_extension": ".py",
   "mimetype": "text/x-python",
   "name": "python",
   "nbconvert_exporter": "python",
   "pygments_lexer": "ipython3",
   "version": "3.11.0"
  },
  "vscode": {
   "interpreter": {
    "hash": "2254184c2aee47fc75dd0886aede4da63e942299f319f2efaed55e4aef1f90a1"
   }
  }
 },
 "nbformat": 4,
 "nbformat_minor": 4
}
